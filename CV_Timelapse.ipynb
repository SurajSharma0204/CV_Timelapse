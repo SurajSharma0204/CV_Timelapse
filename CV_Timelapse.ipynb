{
 "cells": [
  {
   "cell_type": "code",
   "execution_count": 1,
   "metadata": {},
   "outputs": [
    {
     "name": "stdout",
     "output_type": "stream",
     "text": [
      "Defaulting to user installation because normal site-packages is not writeable\n",
      "Collecting yt-dlp\n",
      "  Downloading yt_dlp-2024.12.13-py3-none-any.whl.metadata (172 kB)\n",
      "Downloading yt_dlp-2024.12.13-py3-none-any.whl (3.2 MB)\n",
      "   ---------------------------------------- 0.0/3.2 MB ? eta -:--:--\n",
      "   ---------------------------------------  3.1/3.2 MB 16.9 MB/s eta 0:00:01\n",
      "   ---------------------------------------- 3.2/3.2 MB 14.4 MB/s eta 0:00:00\n",
      "Installing collected packages: yt-dlp\n",
      "Successfully installed yt-dlp-2024.12.13\n"
     ]
    }
   ],
   "source": [
    "!pip install yt-dlp\n"
   ]
  },
  {
   "cell_type": "code",
   "execution_count": 2,
   "metadata": {},
   "outputs": [
    {
     "name": "stdout",
     "output_type": "stream",
     "text": [
      "[youtube] Extracting URL: https://www.youtube.com/watch?v=o3xE32ovIMo\n",
      "[youtube] o3xE32ovIMo: Downloading webpage\n",
      "[youtube] o3xE32ovIMo: Downloading ios player API JSON\n",
      "[youtube] o3xE32ovIMo: Downloading mweb player API JSON\n",
      "[youtube] o3xE32ovIMo: Downloading player f8f53e1a\n",
      "[youtube] o3xE32ovIMo: Downloading m3u8 information\n",
      "[info] o3xE32ovIMo: Downloading 1 format(s): 18\n",
      "[download] Destination: time_lapse.mp4\n",
      "[download] 100% of    2.21MiB in 00:00:01 at 1.47MiB/s   \n",
      "Video downloaded as 'time_lapse.mp4'\n"
     ]
    },
    {
     "data": {
      "text/plain": [
       "'time_lapse.mp4'"
      ]
     },
     "execution_count": 2,
     "metadata": {},
     "output_type": "execute_result"
    }
   ],
   "source": [
    "\n",
    "import yt_dlp as ytdlp\n",
    "\n",
    "# YouTube video URL\n",
    "url = \"https://www.youtube.com/watch?v=o3xE32ovIMo\"\n",
    "\n",
    "def download_youtube_video(url, output_filename=\"time_lapse.mp4\"):\n",
    "    ydl_opts = {\n",
    "        'format': 'mp4',  # Request MP4 format\n",
    "        'outtmpl': output_filename,  # Specify output file\n",
    "    }\n",
    "    with ytdlp.YoutubeDL(ydl_opts) as ydl:\n",
    "        ydl.download([url])\n",
    "    print(f\"Video downloaded as '{output_filename}'\")\n",
    "    return output_filename\n",
    "\n",
    "# Download the video\n",
    "download_youtube_video(url)\n"
   ]
  },
  {
   "cell_type": "code",
   "execution_count": 22,
   "metadata": {},
   "outputs": [
    {
     "name": "stdout",
     "output_type": "stream",
     "text": [
      "Morning: 24.86%\n",
      "Day: 51.22%\n",
      "Evening: 5.21%\n",
      "Night: 18.71%\n"
     ]
    }
   ],
   "source": [
    "import cv2\n",
    "import numpy as np\n",
    "\n",
    "# Function to categorize brightness using fixed thresholds (HSV-based)\n",
    "def categorize_brightness_fixed(frame):\n",
    "    # Convert the frame to HSV\n",
    "    hsv_frame = cv2.cvtColor(frame, cv2.COLOR_BGR2HSV)\n",
    "    \n",
    "    # Extract the Value (V) channel which represents brightness\n",
    "    v_channel = hsv_frame[:, :, 2]\n",
    "\n",
    "    # Calculate the average brightness from the V channel\n",
    "    brightness = np.mean(v_channel)  # Mean of pixel values in the V channel\n",
    "\n",
    "    # Set fixed thresholds based on general assumptions\n",
    "    if brightness > 90:  # High brightness: Day (higher than 90)\n",
    "        return \"Day\", brightness\n",
    "    elif brightness > 40:  # Moderate brightness: Morning (between 40 and 90)\n",
    "        return \"Morning\", brightness\n",
    "    elif brightness > 22:  # Moderate brightness: Evening (between 22 and 40)\n",
    "        return \"Evening\", brightness\n",
    "    else:  # Low brightness: Night (below 22)\n",
    "        return \"Night\", brightness\n",
    "\n",
    "# Input video file path\n",
    "video_path = \"time_lapse.mp4\"\n",
    "cap = cv2.VideoCapture(video_path)\n",
    "\n",
    "# Initialize variables\n",
    "day_count = 0\n",
    "morning_count = 0\n",
    "evening_count = 0\n",
    "night_count = 0\n",
    "total_frames = 0\n",
    "\n",
    "# Set output file path and codec for AVI\n",
    "output_path = \"output_timelapse.avi\"  # AVI format\n",
    "fourcc = cv2.VideoWriter_fourcc(*'XVID')  # XVID codec for AVI format\n",
    "\n",
    "frame_width = int(cap.get(cv2.CAP_PROP_FRAME_WIDTH))\n",
    "frame_height = int(cap.get(cv2.CAP_PROP_FRAME_HEIGHT))\n",
    "fps = cap.get(cv2.CAP_PROP_FPS)\n",
    "\n",
    "# Initialize the VideoWriter for saving the video\n",
    "out = cv2.VideoWriter(output_path, fourcc, fps, (frame_width, frame_height))\n",
    "\n",
    "# Process the video frames and count occurrences of each category\n",
    "while True:\n",
    "    ret, frame = cap.read()\n",
    "    if not ret:\n",
    "        break  # If no frame is returned, break the loop  \n",
    "\n",
    "    # Categorize the current frame using fixed thresholds\n",
    "    category, brightness = categorize_brightness_fixed(frame)\n",
    "\n",
    "    # Increment the appropriate counter based on the category\n",
    "    if category == \"Day\":\n",
    "        day_count += 1\n",
    "    elif category == \"Morning\":\n",
    "        morning_count += 1\n",
    "    elif category == \"Evening\":\n",
    "        evening_count += 1\n",
    "    else:\n",
    "        night_count += 1\n",
    "\n",
    "    total_frames += 1  # Increment total frames count\n",
    "\n",
    "    # Calculate percentages dynamically\n",
    "    if total_frames > 0:\n",
    "        day_percentage = (day_count / total_frames) * 100\n",
    "        morning_percentage = (morning_count / total_frames) * 100\n",
    "        evening_percentage = (evening_count / total_frames) * 100\n",
    "        night_percentage = (night_count / total_frames) * 100\n",
    "    else:\n",
    "        day_percentage = morning_percentage = evening_percentage = night_percentage = 0\n",
    "\n",
    "    # Prepare the text to display on the frame\n",
    "    if category == \"Day\":\n",
    "        display_text = f\"Day: {day_percentage:.2f}%\"\n",
    "    elif category == \"Morning\":\n",
    "        display_text = f\"Morning: {morning_percentage:.2f}%\"\n",
    "    elif category == \"Evening\":\n",
    "        display_text = f\"Evening: {evening_percentage:.2f}%\"\n",
    "    else:\n",
    "        display_text = f\"Night: {night_percentage:.2f}%\"\n",
    "\n",
    "    # Add text to the frame (showing category and percentage)\n",
    "    cv2.putText(frame, display_text, (50, 50), cv2.FONT_HERSHEY_SIMPLEX, 1, (0, 255, 0), 2)\n",
    "\n",
    "    # Write the updated frame to the output video\n",
    "    out.write(frame)\n",
    "\n",
    "# Release the video capture and writer objects\n",
    "cap.release()\n",
    "out.release()\n",
    "\n",
    "# Close the display window\n",
    "cv2.destroyAllWindows()\n",
    "\n",
    "# Print final percentages for categories\n",
    "if total_frames > 0:\n",
    "    print(f\"Morning: {morning_percentage:.2f}%\")\n",
    "    print(f\"Day: {day_percentage:.2f}%\")\n",
    "    print(f\"Evening: {evening_percentage:.2f}%\")\n",
    "    print(f\"Night: {night_percentage:.2f}%\")\n",
    "else:\n",
    "    print(\"No frames processed.\")\n"
   ]
  },
  {
   "cell_type": "code",
   "execution_count": null,
   "metadata": {},
   "outputs": [],
   "source": []
  }
 ],
 "metadata": {
  "kernelspec": {
   "display_name": "Python 3",
   "language": "python",
   "name": "python3"
  },
  "language_info": {
   "codemirror_mode": {
    "name": "ipython",
    "version": 3
   },
   "file_extension": ".py",
   "mimetype": "text/x-python",
   "name": "python",
   "nbconvert_exporter": "python",
   "pygments_lexer": "ipython3",
   "version": "3.12.2"
  }
 },
 "nbformat": 4,
 "nbformat_minor": 2
}
